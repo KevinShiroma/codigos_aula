{
 "cells": [
  {
   "cell_type": "code",
   "execution_count": 4,
   "metadata": {},
   "outputs": [],
   "source": [
    "import numpy as np"
   ]
  },
  {
   "cell_type": "code",
   "execution_count": 6,
   "metadata": {},
   "outputs": [
    {
     "name": "stdout",
     "output_type": "stream",
     "text": [
      "Soma\n",
      "[[ 6.  8.]\n",
      " [10. 12.]]\n",
      "produto\n",
      "[[ 5. 12.]\n",
      " [21. 32.]]\n",
      "diferença\n",
      "[[-4. -4.]\n",
      " [-4. -4.]]\n",
      "quociente\n",
      "[[0.2        0.33333333]\n",
      " [0.42857143 0.5       ]]\n"
     ]
    }
   ],
   "source": [
    "a = np.array([[1.0, 2.0], [3.0, 4.0]])\n",
    "b = np.array([[5.0, 6.0], [7.0, 8.0]])\n",
    "\n",
    "soma = a + b\n",
    "produto = a * b\n",
    "diferenca = a - b\n",
    "quociente = a / b\n",
    "print(\"Soma\")\n",
    "print(soma)\n",
    "\n",
    "print(\"produto\")\n",
    "print(produto)\n",
    "\n",
    "print(\"diferença\")\n",
    "print(diferenca)\n",
    "\n",
    "print(\"quociente\")\n",
    "print(quociente)"
   ]
  }
 ],
 "metadata": {
  "kernelspec": {
   "display_name": "Python 3",
   "language": "python",
   "name": "python3"
  },
  "language_info": {
   "codemirror_mode": {
    "name": "ipython",
    "version": 3
   },
   "file_extension": ".py",
   "mimetype": "text/x-python",
   "name": "python",
   "nbconvert_exporter": "python",
   "pygments_lexer": "ipython3",
   "version": "3.12.1"
  }
 },
 "nbformat": 4,
 "nbformat_minor": 2
}
