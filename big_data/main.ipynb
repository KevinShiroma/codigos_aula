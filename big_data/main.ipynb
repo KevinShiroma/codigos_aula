{
 "cells": [
  {
   "cell_type": "code",
   "execution_count": 2,
   "metadata": {},
   "outputs": [],
   "source": [
    "import numpy as np"
   ]
  },
  {
   "cell_type": "code",
   "execution_count": 3,
   "metadata": {},
   "outputs": [
    {
     "name": "stdout",
     "output_type": "stream",
     "text": [
      "Soma\n",
      "[[ 6.  8.]\n",
      " [10. 12.]]\n",
      "produto\n",
      "[[ 5. 12.]\n",
      " [21. 32.]]\n",
      "diferença\n",
      "[[-4. -4.]\n",
      " [-4. -4.]]\n",
      "quociente\n",
      "[[0.2        0.33333333]\n",
      " [0.42857143 0.5       ]]\n"
     ]
    }
   ],
   "source": [
    "a = np.array([[1.0, 2.0], [3.0, 4.0]])\n",
    "b = np.array([[5.0, 6.0], [7.0, 8.0]])\n",
    "\n",
    "soma = a + b\n",
    "produto = a * b\n",
    "diferenca = a - b\n",
    "quociente = a / b\n",
    "print(\"Soma\")\n",
    "print(soma)\n",
    "\n",
    "print(\"produto\")\n",
    "print(produto)\n",
    "\n",
    "print(\"diferença\")\n",
    "print(diferenca)\n",
    "\n",
    "print(\"quociente\")\n",
    "print(quociente)"
   ]
  },
  {
   "cell_type": "code",
   "execution_count": 4,
   "metadata": {},
   "outputs": [
    {
     "name": "stdout",
     "output_type": "stream",
     "text": [
      "Resolvendo um sistema linear\n",
      "[[2 6]\n",
      " [5 3]]\n",
      "[ 6 -9]\n",
      "[-3.  2.]\n",
      " X = -3.0\n",
      " Y = 2.0\n"
     ]
    }
   ],
   "source": [
    "print(\"Resolvendo um sistema linear\")\n",
    "\"\"\"\"\n",
    "    2x + 6y = 6\n",
    "    5x + 3y = -9\n",
    "    x = ? e y = ?\n",
    "    Matriz de coeficientes e variáveis dependentes\n",
    "    [2 6 = [6\n",
    "    5 3 ] = -9]\n",
    "\"\"\"\n",
    "\n",
    "coef = np.array([[2,6], [5,3]])\n",
    "vardeps = np.array([6, -9])\n",
    "print(coef)\n",
    "print(vardeps)\n",
    "\n",
    "solucao = np.linalg.solve(coef, vardeps)\n",
    "print(solucao)\n",
    "print(f\" X = {solucao[0]}\")\n",
    "print(f\" Y = {solucao[1]}\")"
   ]
  },
  {
   "cell_type": "markdown",
   "metadata": {},
   "source": [
    "# Exercício"
   ]
  },
  {
   "cell_type": "code",
   "execution_count": 15,
   "metadata": {},
   "outputs": [
    {
     "name": "stdout",
     "output_type": "stream",
     "text": [
      "resolvendo um sistema linear de 3 variáveis com Numpy\n",
      "[3. 2. 1.]\n",
      " X = 3.0\n",
      " Y = 2.0\n",
      " Z = 1.0\n"
     ]
    }
   ],
   "source": [
    "print(\"resolvendo um sistema linear de 3 variáveis com Numpy\")\n",
    "\"\"\"\"\n",
    "sistema linear x = euro, y = dolar e z = iene\n",
    "2x + 5y + 2z = 18\n",
    "5x + 3y + 4z = 25\n",
    "3x + 3y + 4z = 19\n",
    "x = ?\n",
    "y = ?\n",
    "z = ?\n",
    "\"\"\"\n",
    "coeficientes = np.array(\n",
    "                [[2, 5, 2], \n",
    "                 [5, 3, 4], \n",
    "                 [3, 3, 4]]\n",
    "                )\n",
    "\n",
    "result = np.array([18, 25, 19])\n",
    "\n",
    "solucao = np.linalg.solve(coeficientes, result)\n",
    "print(solucao)\n",
    "print(f\" X = {solucao[0].round()}\")\n",
    "print(f\" Y = {solucao[1].round()}\")\n",
    "print(f\" Z = {solucao[2].round()}\")\n"
   ]
  }
 ],
 "metadata": {
  "kernelspec": {
   "display_name": "Python 3",
   "language": "python",
   "name": "python3"
  },
  "language_info": {
   "codemirror_mode": {
    "name": "ipython",
    "version": 3
   },
   "file_extension": ".py",
   "mimetype": "text/x-python",
   "name": "python",
   "nbconvert_exporter": "python",
   "pygments_lexer": "ipython3",
   "version": "3.12.1"
  }
 },
 "nbformat": 4,
 "nbformat_minor": 2
}
