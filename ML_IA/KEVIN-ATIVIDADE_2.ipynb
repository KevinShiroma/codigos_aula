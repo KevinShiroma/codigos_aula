{
  "nbformat": 4,
  "nbformat_minor": 0,
  "metadata": {
    "colab": {
      "provenance": []
    },
    "kernelspec": {
      "name": "python3",
      "display_name": "Python 3"
    }
  },
  "cells": [
    {
      "cell_type": "markdown",
      "metadata": {
        "id": "lmY8JVlQxXjj"
      },
      "source": [
        "# Algoritmos de otimização - calendário de voos"
      ]
    },
    {
      "cell_type": "markdown",
      "metadata": {
        "id": "iA6XSNeifEB0"
      },
      "source": [
        "## Representação do problema\n",
        "\n",
        "---\n",
        "\n"
      ]
    },
    {
      "cell_type": "markdown",
      "source": [
        "KEVIN 20020925"
      ],
      "metadata": {
        "id": "ZH_QPABCB4h_"
      }
    },
    {
      "cell_type": "code",
      "source": [
        "import pandas as pd"
      ],
      "metadata": {
        "id": "JF49FVOlb_j2"
      },
      "execution_count": 5,
      "outputs": []
    },
    {
      "cell_type": "code",
      "metadata": {
        "id": "tgkqEoRdxgfw"
      },
      "source": [
        "\n",
        "produtos_lista = [\n",
        "    ('refrigerador_a', 0.751, 999.90),\n",
        "    ('celular', 0.0000899, 2199.12),\n",
        "    ('tv_55', 0.400, 4346.99),\n",
        "    ('tv_50', 0.290, 3999.90),\n",
        "    ('tv_42', 0.200, 2999.90),\n",
        "    ('notebook_a', 0.00350, 2499.90),\n",
        "    ('ventilador', 0.496, 199.90),\n",
        "    ('microondas_a', 0.0424, 308.66),\n",
        "    ('microondas_b', 0.0544, 429.90),\n",
        "    ('microondas_c', 0.0319, 299.29),\n",
        "    ('refrigerador_b', 0.635, 849.00),\n",
        "    ('refrigerador_c', 0.870, 1199.89),\n",
        "    ('notebook_b', 0.4980, 1999.90),\n",
        "    ('notebook_c', 0.527, 3999.00)\n",
        "]"
      ],
      "execution_count": 6,
      "outputs": []
    },
    {
      "cell_type": "code",
      "metadata": {
        "id": "nGEmfppez90U",
        "colab": {
          "base_uri": "https://localhost:8080/",
          "height": 488
        },
        "outputId": "cfb5d181-7a4e-43bf-a648-63b0b2323bd6"
      },
      "source": [
        "# Dataframe para melhorar a visualização dos dados\n",
        "produtos_lista_df = pd.DataFrame(produtos_lista)\n",
        "produtos_lista_df.columns = ['produtos', 'volume', 'valor']\n",
        "display(produtos_lista_df)"
      ],
      "execution_count": 7,
      "outputs": [
        {
          "output_type": "display_data",
          "data": {
            "text/plain": [
              "          produtos   volume    valor\n",
              "0   refrigerador_a  0.75100   999.90\n",
              "1          celular  0.00009  2199.12\n",
              "2            tv_55  0.40000  4346.99\n",
              "3            tv_50  0.29000  3999.90\n",
              "4            tv_42  0.20000  2999.90\n",
              "5       notebook_a  0.00350  2499.90\n",
              "6       ventilador  0.49600   199.90\n",
              "7     microondas_a  0.04240   308.66\n",
              "8     microondas_b  0.05440   429.90\n",
              "9     microondas_c  0.03190   299.29\n",
              "10  refrigerador_b  0.63500   849.00\n",
              "11  refrigerador_c  0.87000  1199.89\n",
              "12      notebook_b  0.49800  1999.90\n",
              "13      notebook_c  0.52700  3999.00"
            ],
            "text/html": [
              "\n",
              "  <div id=\"df-0404b0a7-c6c6-4d4c-b3a0-3a642d0bb065\" class=\"colab-df-container\">\n",
              "    <div>\n",
              "<style scoped>\n",
              "    .dataframe tbody tr th:only-of-type {\n",
              "        vertical-align: middle;\n",
              "    }\n",
              "\n",
              "    .dataframe tbody tr th {\n",
              "        vertical-align: top;\n",
              "    }\n",
              "\n",
              "    .dataframe thead th {\n",
              "        text-align: right;\n",
              "    }\n",
              "</style>\n",
              "<table border=\"1\" class=\"dataframe\">\n",
              "  <thead>\n",
              "    <tr style=\"text-align: right;\">\n",
              "      <th></th>\n",
              "      <th>produtos</th>\n",
              "      <th>volume</th>\n",
              "      <th>valor</th>\n",
              "    </tr>\n",
              "  </thead>\n",
              "  <tbody>\n",
              "    <tr>\n",
              "      <th>0</th>\n",
              "      <td>refrigerador_a</td>\n",
              "      <td>0.75100</td>\n",
              "      <td>999.90</td>\n",
              "    </tr>\n",
              "    <tr>\n",
              "      <th>1</th>\n",
              "      <td>celular</td>\n",
              "      <td>0.00009</td>\n",
              "      <td>2199.12</td>\n",
              "    </tr>\n",
              "    <tr>\n",
              "      <th>2</th>\n",
              "      <td>tv_55</td>\n",
              "      <td>0.40000</td>\n",
              "      <td>4346.99</td>\n",
              "    </tr>\n",
              "    <tr>\n",
              "      <th>3</th>\n",
              "      <td>tv_50</td>\n",
              "      <td>0.29000</td>\n",
              "      <td>3999.90</td>\n",
              "    </tr>\n",
              "    <tr>\n",
              "      <th>4</th>\n",
              "      <td>tv_42</td>\n",
              "      <td>0.20000</td>\n",
              "      <td>2999.90</td>\n",
              "    </tr>\n",
              "    <tr>\n",
              "      <th>5</th>\n",
              "      <td>notebook_a</td>\n",
              "      <td>0.00350</td>\n",
              "      <td>2499.90</td>\n",
              "    </tr>\n",
              "    <tr>\n",
              "      <th>6</th>\n",
              "      <td>ventilador</td>\n",
              "      <td>0.49600</td>\n",
              "      <td>199.90</td>\n",
              "    </tr>\n",
              "    <tr>\n",
              "      <th>7</th>\n",
              "      <td>microondas_a</td>\n",
              "      <td>0.04240</td>\n",
              "      <td>308.66</td>\n",
              "    </tr>\n",
              "    <tr>\n",
              "      <th>8</th>\n",
              "      <td>microondas_b</td>\n",
              "      <td>0.05440</td>\n",
              "      <td>429.90</td>\n",
              "    </tr>\n",
              "    <tr>\n",
              "      <th>9</th>\n",
              "      <td>microondas_c</td>\n",
              "      <td>0.03190</td>\n",
              "      <td>299.29</td>\n",
              "    </tr>\n",
              "    <tr>\n",
              "      <th>10</th>\n",
              "      <td>refrigerador_b</td>\n",
              "      <td>0.63500</td>\n",
              "      <td>849.00</td>\n",
              "    </tr>\n",
              "    <tr>\n",
              "      <th>11</th>\n",
              "      <td>refrigerador_c</td>\n",
              "      <td>0.87000</td>\n",
              "      <td>1199.89</td>\n",
              "    </tr>\n",
              "    <tr>\n",
              "      <th>12</th>\n",
              "      <td>notebook_b</td>\n",
              "      <td>0.49800</td>\n",
              "      <td>1999.90</td>\n",
              "    </tr>\n",
              "    <tr>\n",
              "      <th>13</th>\n",
              "      <td>notebook_c</td>\n",
              "      <td>0.52700</td>\n",
              "      <td>3999.00</td>\n",
              "    </tr>\n",
              "  </tbody>\n",
              "</table>\n",
              "</div>\n",
              "    <div class=\"colab-df-buttons\">\n",
              "\n",
              "  <div class=\"colab-df-container\">\n",
              "    <button class=\"colab-df-convert\" onclick=\"convertToInteractive('df-0404b0a7-c6c6-4d4c-b3a0-3a642d0bb065')\"\n",
              "            title=\"Convert this dataframe to an interactive table.\"\n",
              "            style=\"display:none;\">\n",
              "\n",
              "  <svg xmlns=\"http://www.w3.org/2000/svg\" height=\"24px\" viewBox=\"0 -960 960 960\">\n",
              "    <path d=\"M120-120v-720h720v720H120Zm60-500h600v-160H180v160Zm220 220h160v-160H400v160Zm0 220h160v-160H400v160ZM180-400h160v-160H180v160Zm440 0h160v-160H620v160ZM180-180h160v-160H180v160Zm440 0h160v-160H620v160Z\"/>\n",
              "  </svg>\n",
              "    </button>\n",
              "\n",
              "  <style>\n",
              "    .colab-df-container {\n",
              "      display:flex;\n",
              "      gap: 12px;\n",
              "    }\n",
              "\n",
              "    .colab-df-convert {\n",
              "      background-color: #E8F0FE;\n",
              "      border: none;\n",
              "      border-radius: 50%;\n",
              "      cursor: pointer;\n",
              "      display: none;\n",
              "      fill: #1967D2;\n",
              "      height: 32px;\n",
              "      padding: 0 0 0 0;\n",
              "      width: 32px;\n",
              "    }\n",
              "\n",
              "    .colab-df-convert:hover {\n",
              "      background-color: #E2EBFA;\n",
              "      box-shadow: 0px 1px 2px rgba(60, 64, 67, 0.3), 0px 1px 3px 1px rgba(60, 64, 67, 0.15);\n",
              "      fill: #174EA6;\n",
              "    }\n",
              "\n",
              "    .colab-df-buttons div {\n",
              "      margin-bottom: 4px;\n",
              "    }\n",
              "\n",
              "    [theme=dark] .colab-df-convert {\n",
              "      background-color: #3B4455;\n",
              "      fill: #D2E3FC;\n",
              "    }\n",
              "\n",
              "    [theme=dark] .colab-df-convert:hover {\n",
              "      background-color: #434B5C;\n",
              "      box-shadow: 0px 1px 3px 1px rgba(0, 0, 0, 0.15);\n",
              "      filter: drop-shadow(0px 1px 2px rgba(0, 0, 0, 0.3));\n",
              "      fill: #FFFFFF;\n",
              "    }\n",
              "  </style>\n",
              "\n",
              "    <script>\n",
              "      const buttonEl =\n",
              "        document.querySelector('#df-0404b0a7-c6c6-4d4c-b3a0-3a642d0bb065 button.colab-df-convert');\n",
              "      buttonEl.style.display =\n",
              "        google.colab.kernel.accessAllowed ? 'block' : 'none';\n",
              "\n",
              "      async function convertToInteractive(key) {\n",
              "        const element = document.querySelector('#df-0404b0a7-c6c6-4d4c-b3a0-3a642d0bb065');\n",
              "        const dataTable =\n",
              "          await google.colab.kernel.invokeFunction('convertToInteractive',\n",
              "                                                    [key], {});\n",
              "        if (!dataTable) return;\n",
              "\n",
              "        const docLinkHtml = 'Like what you see? Visit the ' +\n",
              "          '<a target=\"_blank\" href=https://colab.research.google.com/notebooks/data_table.ipynb>data table notebook</a>'\n",
              "          + ' to learn more about interactive tables.';\n",
              "        element.innerHTML = '';\n",
              "        dataTable['output_type'] = 'display_data';\n",
              "        await google.colab.output.renderOutput(dataTable, element);\n",
              "        const docLink = document.createElement('div');\n",
              "        docLink.innerHTML = docLinkHtml;\n",
              "        element.appendChild(docLink);\n",
              "      }\n",
              "    </script>\n",
              "  </div>\n",
              "\n",
              "\n",
              "<div id=\"df-f5bb5de2-672c-49e1-a49b-d269fe881b56\">\n",
              "  <button class=\"colab-df-quickchart\" onclick=\"quickchart('df-f5bb5de2-672c-49e1-a49b-d269fe881b56')\"\n",
              "            title=\"Suggest charts\"\n",
              "            style=\"display:none;\">\n",
              "\n",
              "<svg xmlns=\"http://www.w3.org/2000/svg\" height=\"24px\"viewBox=\"0 0 24 24\"\n",
              "     width=\"24px\">\n",
              "    <g>\n",
              "        <path d=\"M19 3H5c-1.1 0-2 .9-2 2v14c0 1.1.9 2 2 2h14c1.1 0 2-.9 2-2V5c0-1.1-.9-2-2-2zM9 17H7v-7h2v7zm4 0h-2V7h2v10zm4 0h-2v-4h2v4z\"/>\n",
              "    </g>\n",
              "</svg>\n",
              "  </button>\n",
              "\n",
              "<style>\n",
              "  .colab-df-quickchart {\n",
              "      --bg-color: #E8F0FE;\n",
              "      --fill-color: #1967D2;\n",
              "      --hover-bg-color: #E2EBFA;\n",
              "      --hover-fill-color: #174EA6;\n",
              "      --disabled-fill-color: #AAA;\n",
              "      --disabled-bg-color: #DDD;\n",
              "  }\n",
              "\n",
              "  [theme=dark] .colab-df-quickchart {\n",
              "      --bg-color: #3B4455;\n",
              "      --fill-color: #D2E3FC;\n",
              "      --hover-bg-color: #434B5C;\n",
              "      --hover-fill-color: #FFFFFF;\n",
              "      --disabled-bg-color: #3B4455;\n",
              "      --disabled-fill-color: #666;\n",
              "  }\n",
              "\n",
              "  .colab-df-quickchart {\n",
              "    background-color: var(--bg-color);\n",
              "    border: none;\n",
              "    border-radius: 50%;\n",
              "    cursor: pointer;\n",
              "    display: none;\n",
              "    fill: var(--fill-color);\n",
              "    height: 32px;\n",
              "    padding: 0;\n",
              "    width: 32px;\n",
              "  }\n",
              "\n",
              "  .colab-df-quickchart:hover {\n",
              "    background-color: var(--hover-bg-color);\n",
              "    box-shadow: 0 1px 2px rgba(60, 64, 67, 0.3), 0 1px 3px 1px rgba(60, 64, 67, 0.15);\n",
              "    fill: var(--button-hover-fill-color);\n",
              "  }\n",
              "\n",
              "  .colab-df-quickchart-complete:disabled,\n",
              "  .colab-df-quickchart-complete:disabled:hover {\n",
              "    background-color: var(--disabled-bg-color);\n",
              "    fill: var(--disabled-fill-color);\n",
              "    box-shadow: none;\n",
              "  }\n",
              "\n",
              "  .colab-df-spinner {\n",
              "    border: 2px solid var(--fill-color);\n",
              "    border-color: transparent;\n",
              "    border-bottom-color: var(--fill-color);\n",
              "    animation:\n",
              "      spin 1s steps(1) infinite;\n",
              "  }\n",
              "\n",
              "  @keyframes spin {\n",
              "    0% {\n",
              "      border-color: transparent;\n",
              "      border-bottom-color: var(--fill-color);\n",
              "      border-left-color: var(--fill-color);\n",
              "    }\n",
              "    20% {\n",
              "      border-color: transparent;\n",
              "      border-left-color: var(--fill-color);\n",
              "      border-top-color: var(--fill-color);\n",
              "    }\n",
              "    30% {\n",
              "      border-color: transparent;\n",
              "      border-left-color: var(--fill-color);\n",
              "      border-top-color: var(--fill-color);\n",
              "      border-right-color: var(--fill-color);\n",
              "    }\n",
              "    40% {\n",
              "      border-color: transparent;\n",
              "      border-right-color: var(--fill-color);\n",
              "      border-top-color: var(--fill-color);\n",
              "    }\n",
              "    60% {\n",
              "      border-color: transparent;\n",
              "      border-right-color: var(--fill-color);\n",
              "    }\n",
              "    80% {\n",
              "      border-color: transparent;\n",
              "      border-right-color: var(--fill-color);\n",
              "      border-bottom-color: var(--fill-color);\n",
              "    }\n",
              "    90% {\n",
              "      border-color: transparent;\n",
              "      border-bottom-color: var(--fill-color);\n",
              "    }\n",
              "  }\n",
              "</style>\n",
              "\n",
              "  <script>\n",
              "    async function quickchart(key) {\n",
              "      const quickchartButtonEl =\n",
              "        document.querySelector('#' + key + ' button');\n",
              "      quickchartButtonEl.disabled = true;  // To prevent multiple clicks.\n",
              "      quickchartButtonEl.classList.add('colab-df-spinner');\n",
              "      try {\n",
              "        const charts = await google.colab.kernel.invokeFunction(\n",
              "            'suggestCharts', [key], {});\n",
              "      } catch (error) {\n",
              "        console.error('Error during call to suggestCharts:', error);\n",
              "      }\n",
              "      quickchartButtonEl.classList.remove('colab-df-spinner');\n",
              "      quickchartButtonEl.classList.add('colab-df-quickchart-complete');\n",
              "    }\n",
              "    (() => {\n",
              "      let quickchartButtonEl =\n",
              "        document.querySelector('#df-f5bb5de2-672c-49e1-a49b-d269fe881b56 button');\n",
              "      quickchartButtonEl.style.display =\n",
              "        google.colab.kernel.accessAllowed ? 'block' : 'none';\n",
              "    })();\n",
              "  </script>\n",
              "</div>\n",
              "\n",
              "  <div id=\"id_8b8f5243-23f4-4446-b8d5-db7e338d66b8\">\n",
              "    <style>\n",
              "      .colab-df-generate {\n",
              "        background-color: #E8F0FE;\n",
              "        border: none;\n",
              "        border-radius: 50%;\n",
              "        cursor: pointer;\n",
              "        display: none;\n",
              "        fill: #1967D2;\n",
              "        height: 32px;\n",
              "        padding: 0 0 0 0;\n",
              "        width: 32px;\n",
              "      }\n",
              "\n",
              "      .colab-df-generate:hover {\n",
              "        background-color: #E2EBFA;\n",
              "        box-shadow: 0px 1px 2px rgba(60, 64, 67, 0.3), 0px 1px 3px 1px rgba(60, 64, 67, 0.15);\n",
              "        fill: #174EA6;\n",
              "      }\n",
              "\n",
              "      [theme=dark] .colab-df-generate {\n",
              "        background-color: #3B4455;\n",
              "        fill: #D2E3FC;\n",
              "      }\n",
              "\n",
              "      [theme=dark] .colab-df-generate:hover {\n",
              "        background-color: #434B5C;\n",
              "        box-shadow: 0px 1px 3px 1px rgba(0, 0, 0, 0.15);\n",
              "        filter: drop-shadow(0px 1px 2px rgba(0, 0, 0, 0.3));\n",
              "        fill: #FFFFFF;\n",
              "      }\n",
              "    </style>\n",
              "    <button class=\"colab-df-generate\" onclick=\"generateWithVariable('produtos_lista_df')\"\n",
              "            title=\"Generate code using this dataframe.\"\n",
              "            style=\"display:none;\">\n",
              "\n",
              "  <svg xmlns=\"http://www.w3.org/2000/svg\" height=\"24px\"viewBox=\"0 0 24 24\"\n",
              "       width=\"24px\">\n",
              "    <path d=\"M7,19H8.4L18.45,9,17,7.55,7,17.6ZM5,21V16.75L18.45,3.32a2,2,0,0,1,2.83,0l1.4,1.43a1.91,1.91,0,0,1,.58,1.4,1.91,1.91,0,0,1-.58,1.4L9.25,21ZM18.45,9,17,7.55Zm-12,3A5.31,5.31,0,0,0,4.9,8.1,5.31,5.31,0,0,0,1,6.5,5.31,5.31,0,0,0,4.9,4.9,5.31,5.31,0,0,0,6.5,1,5.31,5.31,0,0,0,8.1,4.9,5.31,5.31,0,0,0,12,6.5,5.46,5.46,0,0,0,6.5,12Z\"/>\n",
              "  </svg>\n",
              "    </button>\n",
              "    <script>\n",
              "      (() => {\n",
              "      const buttonEl =\n",
              "        document.querySelector('#id_8b8f5243-23f4-4446-b8d5-db7e338d66b8 button.colab-df-generate');\n",
              "      buttonEl.style.display =\n",
              "        google.colab.kernel.accessAllowed ? 'block' : 'none';\n",
              "\n",
              "      buttonEl.onclick = () => {\n",
              "        google.colab.notebook.generateWithVariable('produtos_lista_df');\n",
              "      }\n",
              "      })();\n",
              "    </script>\n",
              "  </div>\n",
              "\n",
              "    </div>\n",
              "  </div>\n"
            ],
            "application/vnd.google.colaboratory.intrinsic+json": {
              "type": "dataframe",
              "variable_name": "produtos_lista_df",
              "summary": "{\n  \"name\": \"produtos_lista_df\",\n  \"rows\": 14,\n  \"fields\": [\n    {\n      \"column\": \"produtos\",\n      \"properties\": {\n        \"dtype\": \"string\",\n        \"num_unique_values\": 14,\n        \"samples\": [\n          \"microondas_c\",\n          \"refrigerador_c\",\n          \"refrigerador_a\"\n        ],\n        \"semantic_type\": \"\",\n        \"description\": \"\"\n      }\n    },\n    {\n      \"column\": \"volume\",\n      \"properties\": {\n        \"dtype\": \"number\",\n        \"std\": 0.2961982953340969,\n        \"min\": 8.99e-05,\n        \"max\": 0.87,\n        \"num_unique_values\": 14,\n        \"samples\": [\n          0.0319,\n          0.87,\n          0.751\n        ],\n        \"semantic_type\": \"\",\n        \"description\": \"\"\n      }\n    },\n    {\n      \"column\": \"valor\",\n      \"properties\": {\n        \"dtype\": \"number\",\n        \"std\": 1494.0445718848455,\n        \"min\": 199.9,\n        \"max\": 4346.99,\n        \"num_unique_values\": 14,\n        \"samples\": [\n          299.29,\n          1199.89,\n          999.9\n        ],\n        \"semantic_type\": \"\",\n        \"description\": \"\"\n      }\n    }\n  ]\n}"
            }
          },
          "metadata": {}
        }
      ]
    },
    {
      "cell_type": "code",
      "metadata": {
        "id": "a1V3DNay0IjW"
      },
      "source": [
        "limite_caminhao = 3"
      ],
      "execution_count": 8,
      "outputs": []
    },
    {
      "cell_type": "code",
      "source": [
        "entrada = [0,1,1,1,1,1,0,1,1,1,0,1,1,1]"
      ],
      "metadata": {
        "id": "B-X-xN80iDyW"
      },
      "execution_count": 9,
      "outputs": []
    },
    {
      "cell_type": "code",
      "source": [
        "def imprimir_produtos(entrada):\n",
        "    capacidade_caminhao = 3.0  # em m³\n",
        "    volume_total = 0\n",
        "    lucro_total = 0\n",
        "\n",
        "    print(f\"{'Produto':<20} {'Volume (m³)':<15} {'Valor (R$)'}\")\n",
        "    print(\"=\"*50)\n",
        "\n",
        "    for i in range(len(entrada)):\n",
        "        if entrada[i] == 1:\n",
        "            produto = produtos_lista_df.iloc[i]\n",
        "            nome = produto['produtos']\n",
        "            volume = produto['volume']\n",
        "            valor = produto['valor']\n",
        "\n",
        "            volume_total += volume\n",
        "            lucro_total += valor\n",
        "\n",
        "            print(f\"{nome:<20} {volume:<15.5f} {valor:,.2f}\")\n",
        "\n",
        "    print(\"=\"*50)\n",
        "    print(f\"Volume total: {volume_total:.5f} m³\")\n",
        "    print(f\"Lucro total: R${lucro_total:,.2f}\")"
      ],
      "metadata": {
        "id": "F8zsiC9iiA7t"
      },
      "execution_count": 10,
      "outputs": []
    },
    {
      "cell_type": "markdown",
      "metadata": {
        "id": "GqqEtILuYaj-"
      },
      "source": [
        "## Fitness function"
      ]
    },
    {
      "cell_type": "code",
      "metadata": {
        "id": "fH1uo4sm5dyK"
      },
      "source": [
        "def fitness_function(entrada):\n",
        "    capacidade_caminhao = 3.0  # em m³\n",
        "    volume_total = 0\n",
        "    lucro_total = 0\n",
        "\n",
        "    num_produtos = len(produtos_lista_df)\n",
        "    if len(entrada) != num_produtos:\n",
        "        raise ValueError(\"O comprimento da lista de entrada não corresponde ao número de produtos.\")\n",
        "\n",
        "    for i in range(len(entrada)):\n",
        "        if entrada[i] == 1:\n",
        "            produto = produtos_lista_df.iloc[i]\n",
        "            volume = produto['volume']\n",
        "            valor = produto['valor']\n",
        "\n",
        "            volume_total += volume\n",
        "            lucro_total += valor\n",
        "\n",
        "    # Verifica se o volume total excede a capacidade do caminhão\n",
        "    if volume_total > capacidade_caminhao:\n",
        "        return 0  # Retorna 0 se exceder a capacidade\n",
        "\n",
        "    return lucro_total\n"
      ],
      "execution_count": 11,
      "outputs": []
    },
    {
      "cell_type": "code",
      "metadata": {
        "id": "OSaGBRB25_Xk",
        "colab": {
          "base_uri": "https://localhost:8080/"
        },
        "outputId": "315d9eb8-f073-4518-96de-f8cfb1bba269"
      },
      "source": [
        "retorno = fitness_function(entrada)\n",
        "produtos_function = imprimir_produtos(entrada)\n",
        "\n",
        "print(f\"o retorno será de R$ {retorno}\")\n",
        "print(produtos_function)\n",
        "\n"
      ],
      "execution_count": 12,
      "outputs": [
        {
          "output_type": "stream",
          "name": "stdout",
          "text": [
            "Produto              Volume (m³)     Valor (R$)\n",
            "==================================================\n",
            "celular              0.00009         2,199.12\n",
            "tv_55                0.40000         4,346.99\n",
            "tv_50                0.29000         3,999.90\n",
            "tv_42                0.20000         2,999.90\n",
            "notebook_a           0.00350         2,499.90\n",
            "microondas_a         0.04240         308.66\n",
            "microondas_b         0.05440         429.90\n",
            "microondas_c         0.03190         299.29\n",
            "refrigerador_c       0.87000         1,199.89\n",
            "notebook_b           0.49800         1,999.90\n",
            "notebook_c           0.52700         3,999.00\n",
            "==================================================\n",
            "Volume total: 2.91729 m³\n",
            "Lucro total: R$24,282.45\n",
            "o retorno será de R$ 24282.45\n",
            "None\n"
          ]
        }
      ]
    },
    {
      "cell_type": "markdown",
      "source": [
        "<font color='red'>Atualização JAN/2024 relacionada à instalação do mlrose</font>"
      ],
      "metadata": {
        "id": "_dyPcKz4xhSy"
      }
    },
    {
      "cell_type": "code",
      "source": [
        "!git clone https://github.com/gkhayes/mlrose.git\n",
        "!pip install mlrose/."
      ],
      "metadata": {
        "id": "QNunf3FrxoP2",
        "colab": {
          "base_uri": "https://localhost:8080/",
          "height": 443
        },
        "outputId": "51fe4729-0a41-4900-f990-c6d85eb32e05"
      },
      "execution_count": 13,
      "outputs": [
        {
          "output_type": "stream",
          "name": "stdout",
          "text": [
            "fatal: destination path 'mlrose' already exists and is not an empty directory.\n",
            "Processing ./mlrose\n",
            "  Preparing metadata (setup.py) ... \u001b[?25l\u001b[?25hdone\n",
            "Requirement already satisfied: numpy in /usr/local/lib/python3.10/dist-packages (from mlrose==1.3.0) (1.26.4)\n",
            "Requirement already satisfied: scipy in /usr/local/lib/python3.10/dist-packages (from mlrose==1.3.0) (1.13.1)\n",
            "Requirement already satisfied: scikit-learn in /usr/local/lib/python3.10/dist-packages (from mlrose==1.3.0) (1.3.2)\n",
            "Requirement already satisfied: joblib>=1.1.1 in /usr/local/lib/python3.10/dist-packages (from scikit-learn->mlrose==1.3.0) (1.4.2)\n",
            "Requirement already satisfied: threadpoolctl>=2.0.0 in /usr/local/lib/python3.10/dist-packages (from scikit-learn->mlrose==1.3.0) (3.5.0)\n",
            "Building wheels for collected packages: mlrose\n",
            "  Building wheel for mlrose (setup.py) ... \u001b[?25l\u001b[?25hdone\n",
            "  Created wheel for mlrose: filename=mlrose-1.3.0-py3-none-any.whl size=27706 sha256=e3656583259205b59381e738544082b0525cc348e02885da8bf6e8684c8c02a8\n",
            "  Stored in directory: /tmp/pip-ephem-wheel-cache-_rv81idl/wheels/50/ac/56/a248001dcf63344fbef992039dec2613cb4a7c56222c6f9a92\n",
            "Successfully built mlrose\n",
            "Installing collected packages: mlrose\n",
            "  Attempting uninstall: mlrose\n",
            "    Found existing installation: mlrose 1.3.0\n",
            "    Uninstalling mlrose-1.3.0:\n",
            "      Successfully uninstalled mlrose-1.3.0\n",
            "Successfully installed mlrose-1.3.0\n"
          ]
        },
        {
          "output_type": "display_data",
          "data": {
            "application/vnd.colab-display-data+json": {
              "pip_warning": {
                "packages": [
                  "mlrose"
                ]
              },
              "id": "fe3921936f4c489ba1bde983b81c244e"
            }
          },
          "metadata": {}
        }
      ]
    },
    {
      "cell_type": "code",
      "metadata": {
        "id": "Bqmj2a3A8lSA"
      },
      "source": [
        "#!pip install mlrose - este código pode não funcionar"
      ],
      "execution_count": null,
      "outputs": []
    },
    {
      "cell_type": "code",
      "source": [
        "import six\n",
        "import sys\n",
        "sys.modules['sklearn.externals.six'] = six"
      ],
      "metadata": {
        "id": "qlSJlk-VeffS"
      },
      "execution_count": 14,
      "outputs": []
    },
    {
      "cell_type": "code",
      "metadata": {
        "id": "hleIBozb8toR"
      },
      "source": [
        "import mlrose"
      ],
      "execution_count": 3,
      "outputs": []
    },
    {
      "cell_type": "code",
      "metadata": {
        "id": "sgqWculR8yqo"
      },
      "source": [
        "fitness = mlrose.CustomFitness(fitness_function)"
      ],
      "execution_count": 22,
      "outputs": []
    },
    {
      "cell_type": "code",
      "metadata": {
        "id": "HWQKJU3w9DGr"
      },
      "source": [
        "problema = mlrose.DiscreteOpt(length=14, fitness_fn=fitness,\n",
        "                              maximize=True, max_val=2)"
      ],
      "execution_count": 25,
      "outputs": []
    },
    {
      "cell_type": "markdown",
      "metadata": {
        "id": "pMo4HJcsnGVT"
      },
      "source": [
        "**negrito**## Hill climb"
      ]
    },
    {
      "cell_type": "code",
      "metadata": {
        "id": "wrWp0PbxFY2a",
        "colab": {
          "base_uri": "https://localhost:8080/"
        },
        "outputId": "e67a3bbc-3ba4-4101-8c63-9cea76dfafa6"
      },
      "source": [
        "melhor_solucao, melhor_custo = mlrose.hill_climb(problema, random_state = 1)\n",
        "melhor_solucao, melhor_custo"
      ],
      "execution_count": 26,
      "outputs": [
        {
          "output_type": "execute_result",
          "data": {
            "text/plain": [
              "(array([1, 1, 0, 0, 1, 1, 1, 1, 1, 1, 0, 1, 0, 1]), 15135.46)"
            ]
          },
          "metadata": {},
          "execution_count": 26
        }
      ]
    },
    {
      "cell_type": "code",
      "metadata": {
        "id": "cFm4OyLPGXgp",
        "colab": {
          "base_uri": "https://localhost:8080/"
        },
        "outputId": "1d5645f3-15e7-462b-a2c8-34e22ddbbb66"
      },
      "source": [
        "imprimir_produtos(melhor_solucao)"
      ],
      "execution_count": 27,
      "outputs": [
        {
          "output_type": "stream",
          "name": "stdout",
          "text": [
            "Produto              Volume (m³)     Valor (R$)\n",
            "==================================================\n",
            "refrigerador_a       0.75100         999.90\n",
            "celular              0.00009         2,199.12\n",
            "tv_42                0.20000         2,999.90\n",
            "notebook_a           0.00350         2,499.90\n",
            "ventilador           0.49600         199.90\n",
            "microondas_a         0.04240         308.66\n",
            "microondas_b         0.05440         429.90\n",
            "microondas_c         0.03190         299.29\n",
            "refrigerador_c       0.87000         1,199.89\n",
            "notebook_c           0.52700         3,999.00\n",
            "==================================================\n",
            "Volume total: 2.97629 m³\n",
            "Lucro total: R$15,135.46\n"
          ]
        }
      ]
    },
    {
      "cell_type": "markdown",
      "metadata": {
        "id": "mgHnSkdacDEp"
      },
      "source": [
        "## Simulated annealing"
      ]
    },
    {
      "cell_type": "code",
      "metadata": {
        "id": "TM9bez7II2V3",
        "colab": {
          "base_uri": "https://localhost:8080/"
        },
        "outputId": "b439adc1-1a54-486d-c9fb-415c680deac1"
      },
      "source": [
        "melhor_solucao, melhor_custo = mlrose.simulated_annealing(problema,\n",
        "                                                        #   schedule=mlrose.decay.GeomDecay(init_temp=10000), # ATUALIZAÇÃO FEV-2024\n",
        "                                                          schedule=mlrose.GeomDecay(init_temp=10000), # ATUALIZAÇÃO FEV-2024\n",
        "                                                          random_state=1)\n",
        "melhor_solucao, melhor_custo"
      ],
      "execution_count": 28,
      "outputs": [
        {
          "output_type": "execute_result",
          "data": {
            "text/plain": [
              "(array([0, 1, 1, 1, 1, 1, 1, 1, 1, 0, 0, 1, 0, 1]), 22183.16)"
            ]
          },
          "metadata": {},
          "execution_count": 28
        }
      ]
    },
    {
      "cell_type": "code",
      "metadata": {
        "id": "zfhQV3U_K0nH",
        "colab": {
          "base_uri": "https://localhost:8080/"
        },
        "outputId": "a2dbea70-0448-481e-9fe0-abf20310eabf"
      },
      "source": [
        "imprimir_produtos(melhor_solucao)"
      ],
      "execution_count": 29,
      "outputs": [
        {
          "output_type": "stream",
          "name": "stdout",
          "text": [
            "Produto              Volume (m³)     Valor (R$)\n",
            "==================================================\n",
            "celular              0.00009         2,199.12\n",
            "tv_55                0.40000         4,346.99\n",
            "tv_50                0.29000         3,999.90\n",
            "tv_42                0.20000         2,999.90\n",
            "notebook_a           0.00350         2,499.90\n",
            "ventilador           0.49600         199.90\n",
            "microondas_a         0.04240         308.66\n",
            "microondas_b         0.05440         429.90\n",
            "refrigerador_c       0.87000         1,199.89\n",
            "notebook_c           0.52700         3,999.00\n",
            "==================================================\n",
            "Volume total: 2.88339 m³\n",
            "Lucro total: R$22,183.16\n"
          ]
        }
      ]
    },
    {
      "cell_type": "markdown",
      "metadata": {
        "id": "Zt7GvTvc1dnQ"
      },
      "source": [
        "## Algoritmo genético"
      ]
    },
    {
      "cell_type": "code",
      "metadata": {
        "id": "tYlwF-n2XtMm",
        "colab": {
          "base_uri": "https://localhost:8080/"
        },
        "outputId": "2e73f634-068e-436b-aa2f-1a58081b9e7b"
      },
      "source": [
        "melhor_solucao, melhor_custo = mlrose.genetic_alg(problema, pop_size=500, mutation_prob=0.2,\n",
        "                                                  random_state=1)\n",
        "melhor_solucao, melhor_custo"
      ],
      "execution_count": 30,
      "outputs": [
        {
          "output_type": "execute_result",
          "data": {
            "text/plain": [
              "(array([0, 1, 1, 1, 1, 1, 0, 1, 1, 1, 0, 1, 1, 1]), 24282.45)"
            ]
          },
          "metadata": {},
          "execution_count": 30
        }
      ]
    },
    {
      "cell_type": "code",
      "metadata": {
        "id": "7Vfden9jYn1j",
        "colab": {
          "base_uri": "https://localhost:8080/"
        },
        "outputId": "7464e9fd-7009-49fa-9eec-55c45cf74564"
      },
      "source": [
        "imprimir_produtos(melhor_solucao)"
      ],
      "execution_count": 31,
      "outputs": [
        {
          "output_type": "stream",
          "name": "stdout",
          "text": [
            "Produto              Volume (m³)     Valor (R$)\n",
            "==================================================\n",
            "celular              0.00009         2,199.12\n",
            "tv_55                0.40000         4,346.99\n",
            "tv_50                0.29000         3,999.90\n",
            "tv_42                0.20000         2,999.90\n",
            "notebook_a           0.00350         2,499.90\n",
            "microondas_a         0.04240         308.66\n",
            "microondas_b         0.05440         429.90\n",
            "microondas_c         0.03190         299.29\n",
            "refrigerador_c       0.87000         1,199.89\n",
            "notebook_b           0.49800         1,999.90\n",
            "notebook_c           0.52700         3,999.00\n",
            "==================================================\n",
            "Volume total: 2.91729 m³\n",
            "Lucro total: R$24,282.45\n"
          ]
        }
      ]
    }
  ]
}